{
 "cells": [
  {
   "cell_type": "code",
   "execution_count": 27,
   "metadata": {},
   "outputs": [],
   "source": [
    "#Python Libraries\n",
    "import os\n",
    "import pandas as pd\n",
    "from datetime import datetime\n",
    "import numpy as np"
   ]
  },
  {
   "cell_type": "code",
   "execution_count": 28,
   "metadata": {},
   "outputs": [],
   "source": [
    "#PySpark Libraries\n",
    "from pyspark.sql import SparkSession\n",
    "from pyspark.sql.types import DateType\n",
    "from pyspark.sql.functions import col, split, concat, lit, regexp_replace, collect_list, concat_ws, udf, when"
   ]
  },
  {
   "cell_type": "code",
   "execution_count": 29,
   "metadata": {},
   "outputs": [],
   "source": [
    "spark = SparkSession.builder.appName(\"processingVideoGameData\").getOrCreate()"
   ]
  },
  {
   "cell_type": "code",
   "execution_count": 30,
   "metadata": {},
   "outputs": [],
   "source": [
    "#Setando as variáveis de ambiente\n",
    "os.environ['DB_HOST'] ='40.76.241.164'\n",
    "os.environ['DB_DATABASE'] ='metabase'\n",
    "os.environ['DB_USER'] ='metabase'\n",
    "os.environ['DB_PASS'] ='metabase'\n",
    "os.environ['DB_PORT'] ='5432'"
   ]
  },
  {
   "cell_type": "code",
   "execution_count": 31,
   "metadata": {},
   "outputs": [],
   "source": [
    "#Configurando o JDBC com o database PostgreSQL\n",
    "jdbcHostname = os.getenv('DB_HOST')\n",
    "jdbcPort = os.getenv('DB_PORT')\n",
    "jdbcDatabase = os.getenv('DB_DATABASE')\n",
    "jdbcUrl = \"jdbc:postgresql://{0}:{1}/{2}\".format(jdbcHostname, jdbcPort, jdbcDatabase)\n",
    "properties = {\"user\": os.getenv('DB_USER'),\"password\": os.getenv('DB_PASS'),\"driver\": \"org.postgresql.Driver\"}"
   ]
  },
  {
   "cell_type": "code",
   "execution_count": 32,
   "metadata": {},
   "outputs": [],
   "source": [
    "#Definindo o diretório do dataset a set processado\n",
    "directoryDataset = 'data/'"
   ]
  },
  {
   "cell_type": "code",
   "execution_count": 33,
   "metadata": {},
   "outputs": [],
   "source": [
    "#Função recursiva para realizar a localização dos arquivos e definir o nome de cada arquivo no dataset\n",
    "def localizarArquivos(pasta, extensao):\n",
    "    arquivosFunc = []\n",
    "    caminhoAbsoluto = os.path.abspath(pasta)\n",
    "    for pastaAtual, subPastas, arquivos  in os.walk(caminhoAbsoluto):\n",
    "        arquivosFunc.extend([os.path.join(pastaAtual,arquivo) for arquivo in arquivos if arquivo.endswith(extensao)])\n",
    "    return arquivosFunc"
   ]
  },
  {
   "cell_type": "code",
   "execution_count": 34,
   "metadata": {},
   "outputs": [
    {
     "name": "stdout",
     "output_type": "stream",
     "text": [
      "['/home/jovyan/work/data/vgsales.csv']\n"
     ]
    }
   ],
   "source": [
    "#Rodar a função com o diretório principal\n",
    "arquivos = localizarArquivos(directoryDataset, '.csv')"
   ]
  },
  {
   "cell_type": "code",
   "execution_count": 23,
   "metadata": {},
   "outputs": [],
   "source": [
    "for file in arquivos:\n",
    "    video_game_df = spark.read.option('header',True).option('encoding','cp1252').csv(file)\n",
    "    video_game_df = video_game_df.select(col('Rank').cast('integer'), \n",
    "                                             'Name', 'Platform', 'Year', 'Genre', 'Publisher', \n",
    "                                             col('NA_Sales').cast('float'), col('EU_Sales').cast('float'),\n",
    "                                             col('JP_Sales').cast('float'), col('Other_Sales').cast('float'),\n",
    "                                             col('Global_Sales').cast('float'))\n",
    "    video_game_df.write.jdbc(url=jdbcUrl, table=\"metabase.test\", mode=\"append\", properties=properties)"
   ]
  }
 ],
 "metadata": {
  "kernelspec": {
   "display_name": "Python 3",
   "language": "python",
   "name": "python3"
  },
  "language_info": {
   "codemirror_mode": {
    "name": "ipython",
    "version": 3
   },
   "file_extension": ".py",
   "mimetype": "text/x-python",
   "name": "python",
   "nbconvert_exporter": "python",
   "pygments_lexer": "ipython3",
   "version": "3.8.6"
  }
 },
 "nbformat": 4,
 "nbformat_minor": 4
}
